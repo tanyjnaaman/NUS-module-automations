{
 "cells": [
  {
   "cell_type": "code",
   "execution_count": 36,
   "metadata": {},
   "outputs": [],
   "source": [
    "from sympy.physics.continuum_mechanics.beam import Beam\n",
    "from sympy import symbols,plot,solve,symbol"
   ]
  },
  {
   "cell_type": "markdown",
   "metadata": {},
   "source": [
    "# Loads"
   ]
  },
  {
   "cell_type": "markdown",
   "metadata": {},
   "source": [
    "Point loads and moments"
   ]
  },
  {
   "cell_type": "code",
   "execution_count": null,
   "metadata": {},
   "outputs": [],
   "source": [
    "#point load\n",
    "b.apply_load(magnitude,location,-1)\n",
    "\n",
    "#point moment\n",
    "b.apply_load(magnitude,location,-2)\n"
   ]
  },
  {
   "cell_type": "markdown",
   "metadata": {},
   "source": [
    "Constant distributed load"
   ]
  },
  {
   "cell_type": "code",
   "execution_count": null,
   "metadata": {},
   "outputs": [],
   "source": [
    "b.apply_load(magnitude,start,0)\n",
    "b.apply_load(-magnitude,stop,0)"
   ]
  },
  {
   "cell_type": "markdown",
   "metadata": {},
   "source": [
    "Triangular load"
   ]
  },
  {
   "cell_type": "code",
   "execution_count": null,
   "metadata": {},
   "outputs": [],
   "source": [
    "#left triangular load\n",
    "b.apply_load(magnitude,start,0)\n",
    "b.apply_load(-magnitude/length,start,1)\n",
    "b.apply_load(magnitude/length,end,1)\n",
    "\n",
    "#right triangular load\n",
    "b.apply_load(magnitude/length,start,1)\n",
    "b.apply_load(-magnitude,end,0)\n",
    "b.apply_load(-magnitude/length,end,1)\n"
   ]
  },
  {
   "cell_type": "markdown",
   "metadata": {},
   "source": [
    "# Defining"
   ]
  },
  {
   "cell_type": "code",
   "execution_count": 37,
   "metadata": {},
   "outputs": [],
   "source": [
    "#E and I values\n",
    "E,I,x,w,L = symbols(\"E I x w L\")\n",
    "#E = 70e9\n",
    "#I = 2.485e-9\n",
    "\n",
    "\n",
    "#Beam\n",
    "length_of_beam = 2*L\n",
    "b = Beam(length_of_beam,E,I)\n",
    "\n",
    "#applying known loads\n",
    "\n",
    "\n",
    "#applying unknown loads\n",
    "R1, R2, M0 = symbols(\"A R1 R2 M0\")\n",
    "\n",
    "b.apply_load(A,0,-1)\n",
    "\n",
    "b.apply_load(M0,0,-2)\n",
    "\n"
   ]
  },
  {
   "cell_type": "markdown",
   "metadata": {},
   "source": [
    "# Solving"
   ]
  },
  {
   "cell_type": "markdown",
   "metadata": {},
   "source": [
    "Reactions"
   ]
  },
  {
   "cell_type": "code",
   "execution_count": 39,
   "metadata": {},
   "outputs": [
    {
     "data": {
      "text/plain": [
       "{R1: 14.6602500000000, M0: -49.6410000000000}"
      ]
     },
     "execution_count": 39,
     "metadata": {},
     "output_type": "execute_result"
    }
   ],
   "source": [
    "b.solve_for_reaction_loads(R1,M0)\n",
    "b.reaction_loads"
   ]
  },
  {
   "cell_type": "markdown",
   "metadata": {},
   "source": [
    "Load intensity q"
   ]
  },
  {
   "cell_type": "code",
   "execution_count": 40,
   "metadata": {},
   "outputs": [
    {
     "data": {
      "text/latex": [
       "$\\displaystyle - 49.641 {\\left\\langle x \\right\\rangle}^{-2} + 14.66025 {\\left\\langle x \\right\\rangle}^{-1} - 2 {\\left\\langle x - 1 \\right\\rangle}^{0} - 8.66025 {\\left\\langle x - 4 \\right\\rangle}^{-1}$"
      ],
      "text/plain": [
       "-49.641*SingularityFunction(x, 0, -2) + 14.66025*SingularityFunction(x, 0, -1) - 2*SingularityFunction(x, 1, 0) - 8.66025*SingularityFunction(x, 4, -1)"
      ]
     },
     "execution_count": 40,
     "metadata": {},
     "output_type": "execute_result"
    }
   ],
   "source": [
    "#q\n",
    "b.load"
   ]
  },
  {
   "cell_type": "markdown",
   "metadata": {},
   "source": [
    "Shear Force Fxy"
   ]
  },
  {
   "cell_type": "code",
   "execution_count": 41,
   "metadata": {},
   "outputs": [
    {
     "data": {
      "text/latex": [
       "$\\displaystyle 49.641 {\\left\\langle x \\right\\rangle}^{-1} - 14.66025 {\\left\\langle x \\right\\rangle}^{0} + 2 {\\left\\langle x - 1 \\right\\rangle}^{1} + 8.66025 {\\left\\langle x - 4 \\right\\rangle}^{0}$"
      ],
      "text/plain": [
       "49.641*SingularityFunction(x, 0, -1) - 14.66025*SingularityFunction(x, 0, 0) + 2*SingularityFunction(x, 1, 1) + 8.66025*SingularityFunction(x, 4, 0)"
      ]
     },
     "execution_count": 41,
     "metadata": {},
     "output_type": "execute_result"
    }
   ],
   "source": [
    "#Fxy\n",
    "-b.shear_force()"
   ]
  },
  {
   "cell_type": "code",
   "execution_count": 45,
   "metadata": {},
   "outputs": [
    {
     "data": {
      "image/png": "[encoded data removed]",
      "text/plain": [
       "<Figure size 432x288 with 1 Axes>"
      ]
     },
     "metadata": {
      "needs_background": "light"
     },
     "output_type": "display_data"
    },
    {
     "data": {
      "text/plain": [
       "<sympy.plotting.plot.Plot at 0x242bf077bb0>"
      ]
     },
     "execution_count": 45,
     "metadata": {},
     "output_type": "execute_result"
    }
   ],
   "source": [
    "plot(-b.shear_force(),(symbols(\"x\"),0,length_of_beam),xlim=(0,length_of_beam),line_color=\"r\")"
   ]
  },
  {
   "cell_type": "code",
   "execution_count": 44,
   "metadata": {},
   "outputs": [
    {
     "data": {
      "text/latex": [
       "$\\displaystyle -14.66025$"
      ],
      "text/plain": [
       "-14.6602500000000"
      ]
     },
     "execution_count": 44,
     "metadata": {},
     "output_type": "execute_result"
    }
   ],
   "source": [
    "location = 1\n",
    "-b.shear_force().subs(x,location)"
   ]
  },
  {
   "cell_type": "markdown",
   "metadata": {},
   "source": [
    "Moment"
   ]
  },
  {
   "cell_type": "code",
   "execution_count": 42,
   "metadata": {},
   "outputs": [
    {
     "data": {
      "text/latex": [
       "$\\displaystyle - 49.641 {\\left\\langle x \\right\\rangle}^{0} + 14.66025 {\\left\\langle x \\right\\rangle}^{1} - {\\left\\langle x - 1 \\right\\rangle}^{2} - 8.66025 {\\left\\langle x - 4 \\right\\rangle}^{1}$"
      ],
      "text/plain": [
       "-49.641*SingularityFunction(x, 0, 0) + 14.66025*SingularityFunction(x, 0, 1) - SingularityFunction(x, 1, 2) - 8.66025*SingularityFunction(x, 4, 1)"
      ]
     },
     "execution_count": 42,
     "metadata": {},
     "output_type": "execute_result"
    }
   ],
   "source": [
    "b.bending_moment()"
   ]
  },
  {
   "cell_type": "code",
   "execution_count": 46,
   "metadata": {},
   "outputs": [
    {
     "data": {
      "image/png": "[encoded data removed]",
      "text/plain": [
       "<Figure size 432x288 with 1 Axes>"
      ]
     },
     "metadata": {
      "needs_background": "light"
     },
     "output_type": "display_data"
    },
    {
     "data": {
      "text/plain": [
       "<sympy.plotting.plot.Plot at 0x242bdbf1880>"
      ]
     },
     "execution_count": 46,
     "metadata": {},
     "output_type": "execute_result"
    }
   ],
   "source": [
    "plot(b.bending_moment(),(symbols(\"x\"),0,length_of_beam),xlim=(0,length_of_beam),line_color=\"r\")"
   ]
  },
  {
   "cell_type": "code",
   "execution_count": 43,
   "metadata": {},
   "outputs": [
    {
     "data": {
      "text/latex": [
       "$\\displaystyle -34.98075$"
      ],
      "text/plain": [
       "-34.9807500000000"
      ]
     },
     "execution_count": 43,
     "metadata": {},
     "output_type": "execute_result"
    }
   ],
   "source": [
    "location = 1\n",
    "b.bending_moment().subs(x,location)"
   ]
  },
  {
   "cell_type": "markdown",
   "metadata": {},
   "source": [
    "# Boundary conditions"
   ]
  },
  {
   "cell_type": "markdown",
   "metadata": {},
   "source": [
    "Input boundary conditions"
   ]
  },
  {
   "cell_type": "code",
   "execution_count": 83,
   "metadata": {},
   "outputs": [],
   "source": [
    "#slope\n",
    "#b.bc_slope = [(location,value),(location,value)]\n",
    "#b.bc_slope = [(1,0),(3,0)]\n",
    "\n",
    "\n",
    "#deflection\n",
    "#b.bc_deflection = [(location,value),(location,value)]\n",
    "b.bc_deflection = [(0,0), (1.5,-0.0202)]\n"
   ]
  },
  {
   "cell_type": "markdown",
   "metadata": {},
   "source": [
    "Slope"
   ]
  },
  {
   "cell_type": "code",
   "execution_count": 84,
   "metadata": {},
   "outputs": [
    {
     "data": {
      "text/latex": [
       "$\\displaystyle \\frac{- 5 {\\left\\langle x \\right\\rangle}^{2} + 20 {\\left\\langle x - 1.5 \\right\\rangle}^{2} - 15 {\\left\\langle x - 2 \\right\\rangle}^{2} + 3.73653333333333}{E I}$"
      ],
      "text/plain": [
       "(-5*SingularityFunction(x, 0, 2) + 20*SingularityFunction(x, 1.5, 2) - 15*SingularityFunction(x, 2, 2) + 3.73653333333333)/(E*I)"
      ]
     },
     "execution_count": 84,
     "metadata": {},
     "output_type": "execute_result"
    }
   ],
   "source": [
    "b.slope()"
   ]
  },
  {
   "cell_type": "code",
   "execution_count": 80,
   "metadata": {},
   "outputs": [
    {
     "data": {
      "text/latex": [
       "$\\displaystyle - \\frac{11.2365333333333}{E I}$"
      ],
      "text/plain": [
       "-11.2365333333333/(E*I)"
      ]
     },
     "execution_count": 80,
     "metadata": {},
     "output_type": "execute_result"
    }
   ],
   "source": [
    "b.slope().subs(x,location)"
   ]
  },
  {
   "cell_type": "markdown",
   "metadata": {},
   "source": [
    "Deflection"
   ]
  },
  {
   "cell_type": "code",
   "execution_count": 85,
   "metadata": {},
   "outputs": [
    {
     "data": {
      "text/latex": [
       "$\\displaystyle \\frac{3.73653333333333 x - \\frac{5 {\\left\\langle x \\right\\rangle}^{3}}{3} + \\frac{20 {\\left\\langle x - 1.5 \\right\\rangle}^{3}}{3} - 5 {\\left\\langle x - 2 \\right\\rangle}^{3}}{E I}$"
      ],
      "text/plain": [
       "(3.73653333333333*x - 5*SingularityFunction(x, 0, 3)/3 + 20*SingularityFunction(x, 1.5, 3)/3 - 5*SingularityFunction(x, 2, 3))/(E*I)"
      ]
     },
     "execution_count": 85,
     "metadata": {},
     "output_type": "execute_result"
    }
   ],
   "source": [
    "b.deflection()"
   ]
  },
  {
   "cell_type": "code",
   "execution_count": 86,
   "metadata": {},
   "outputs": [
    {
     "data": {
      "text/latex": [
       "$\\displaystyle - \\frac{10.6586666666667}{E I}$"
      ],
      "text/plain": [
       "-10.6586666666667/(E*I)"
      ]
     },
     "execution_count": 86,
     "metadata": {},
     "output_type": "execute_result"
    }
   ],
   "source": [
    "location = 2.5\n",
    "b.deflection().subs(x,location)"
   ]
  },
  {
   "cell_type": "code",
   "execution_count": 81,
   "metadata": {},
   "outputs": [
    {
     "data": {
      "text/plain": [
       "<bound method Beam.plot_loading_results of <sympy.physics.continuum_mechanics.beam.Beam object at 0x00000223E54C51F0>>"
      ]
     },
     "execution_count": 81,
     "metadata": {},
     "output_type": "execute_result"
    }
   ],
   "source": [
    "b.plot_loading_results"
   ]
  },
  {
   "cell_type": "code",
   "execution_count": null,
   "metadata": {},
   "outputs": [],
   "source": []
  }
 ],
 "metadata": {
  "kernelspec": {
   "display_name": "Python 3",
   "language": "python",
   "name": "python3"
  },
  "language_info": {
   "codemirror_mode": {
    "name": "ipython",
    "version": 3
   },
   "file_extension": ".py",
   "mimetype": "text/x-python",
   "name": "python",
   "nbconvert_exporter": "python",
   "pygments_lexer": "ipython3",
   "version": "3.8.5"
  }
 },
 "nbformat": 4,
 "nbformat_minor": 4
}
